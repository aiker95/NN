{
 "cells": [
  {
   "cell_type": "code",
   "execution_count": 2,
   "metadata": {
    "collapsed": false
   },
   "outputs": [
    {
     "name": "stdout",
     "output_type": "stream",
     "text": [
      "hiden_input: [ 0.25 -0.4 ]\n",
      "hiden_output: [0 0]\n",
      "output: 0\n",
      "result: False\n"
     ]
    }
   ],
   "source": [
    "import numpy as np\n",
    "\n",
    "vodka = 0.0\n",
    "rain = 1.0\n",
    "friend = 0.0\n",
    "\n",
    "def activation_function(x):\n",
    "    if x >= 0.5:\n",
    "        return 1\n",
    "    else:\n",
    "        return 0\n",
    "\n",
    "def predict(vodka, rain, friend):\n",
    "    inputs = np.array([vodka, rain, friend])\n",
    "    weights_input_to_hiden_1 = [0.25, 0.25, 0]\n",
    "    weights_input_to_hiden_2 = [0.5, -0.4, 0.9]\n",
    "    weights_input_to_hiden = np.array([weights_input_to_hiden_1, weights_input_to_hiden_2])\n",
    "\n",
    "    weights_hiden_to_output = np.array([-1, 1])\n",
    "\n",
    "    hiden_input = np.dot(weights_input_to_hiden, inputs)\n",
    "    print(\"hiden_input: \" + str(hiden_input))\n",
    "\n",
    "    hiden_output = np.array([activation_function(x) for x in hiden_input])\n",
    "    print(\"hiden_output: \" + str(hiden_output))\n",
    "\n",
    "    output = np.dot(weights_hiden_to_output, hiden_output)\n",
    "    print(\"output: \" + str(output))\n",
    "    return activation_function(output) == 1\n",
    "    \n",
    "print(\"result: \" + str(predict(vodka, rain, friend)))"
   ]
  },
  {
   "cell_type": "code",
   "execution_count": null,
   "metadata": {
    "collapsed": true
   },
   "outputs": [],
   "source": []
  }
 ],
 "metadata": {
  "kernelspec": {
   "display_name": "Python 3",
   "language": "python",
   "name": "python3"
  },
  "language_info": {
   "codemirror_mode": {
    "name": "ipython",
    "version": 3
   },
   "file_extension": ".py",
   "mimetype": "text/x-python",
   "name": "python",
   "nbconvert_exporter": "python",
   "pygments_lexer": "ipython3",
   "version": "3.6.0"
  }
 },
 "nbformat": 4,
 "nbformat_minor": 2
}
